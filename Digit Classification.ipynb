{
 "nbformat": 4,
 "nbformat_minor": 0,
 "metadata": {
  "colab": {
   "name": "Introduction to Pytorch Lightning",
   "provenance": [],
   "collapsed_sections": []
  },
  "kernelspec": {
   "name": "python3",
   "display_name": "Python 3 (ipykernel)",
   "language": "python"
  },
  "language_info": {
   "name": "python"
  },
  "accelerator": "GPU"
 },
 "cells": [
  {
   "cell_type": "code",
   "source": [
    "import torch\n",
    "from torch import nn\n",
    "from torch.nn import functional as F\n",
    "from torch.utils.data import DataLoader\n",
    "from torch.utils.data import random_split\n",
    "from torchvision.datasets import MNIST\n",
    "from torchvision import transforms\n",
    "from pytorch_lightning import loggers as pl_loggers\n",
    "import pytorch_lightning as pl\n",
    "import matplotlib.pyplot as plt\n",
    "import torchmetrics"
   ],
   "metadata": {
    "id": "gK84XoasrgAC",
    "ExecuteTime": {
     "end_time": "2024-10-22T09:51:24.630046Z",
     "start_time": "2024-10-22T09:51:24.624831Z"
    }
   },
   "outputs": [],
   "execution_count": 38
  },
  {
   "cell_type": "markdown",
   "metadata": {
    "id": "Yu-IgiEnanUm"
   },
   "source": [
    "# Pytorch-Lightning : Training made Easier\n",
    "\n",
    "Time : 4 hours\n",
    "\n",
    "In the Tutorial session, we used PyTorch to train different models for Binary Classification. In the tutorial, few things were done :\n",
    "\n",
    "\n",
    "*   We created a Training/Testing Loop and trained our models\n",
    "*   We created a Trainer Class to gather all loops to perform the Training/Testing.\n",
    "\n",
    "\n",
    "As you have seen, writing the training and testing loop can quickly be indigest. One can get easily lost.\n",
    "\n",
    "Let us introduce you Pytorch Lightning\n",
    "\n",
    "<img src=\"https://warehouse-camo.ingress.cmh1.psfhosted.org/a88de56e65d2ea6bc203ce178a1cecbe9b50a0ac/68747470733a2f2f6769746875622e636f6d2f5079546f7263684c696768746e696e672f7079746f7263682d6c696768746e696e672f7261772f312e342e392f646f63732f736f757263652f5f7374617469632f696d616765732f6c6f676f2e706e67\">\n",
    "\n",
    "\n",
    "Pytorch lightning will handle a lot of things for you. It creates a Trainer which is a Code Management trick used by many companies (Meta, Google..) in order to get much more digest code.\n",
    "\n",
    "\n",
    "More Information on : https://www.pytorchlightning.ai/\n",
    "\n",
    "Goal of this lab :\n",
    "\n",
    "* Use Pytorch Lightning for Training\n",
    "* Learn to use Pytorch-Lightning\n",
    "* Do classification on MNIST, CIFAR-10\n"
   ]
  },
  {
   "cell_type": "markdown",
   "metadata": {
    "id": "H_cnXBS7boC7"
   },
   "source": [
    "# I - Classify Numbers using Lightning\n",
    "\n",
    "In this part, we are interested in classifying digit images ranging from 0 to 9. \n",
    "We will use the Lightning framework for code management. What's interesting about Lightning is that you can plug in your Torch modules without any modification."
   ]
  },
  {
   "cell_type": "markdown",
   "metadata": {
    "id": "2xBCfzUJcJO9"
   },
   "source": [
    "## a - LightningDataModule : MNIST\n",
    "\n",
    "As you have seen in the Tutorial, you need to create your Dataset Class.\n",
    "\n",
    "As a reminder :    \n",
    " The Dataset class returns one sample of your dataset at a time. The main methods of the Dataset class are \n",
    "\n",
    "*   __getitem__ : which fetched a sample at a given index\n",
    "*   __len__ : which returns the len of the total dataset\n",
    "\n",
    "The Dataset is loaded into a DataLoader. That Dataloader is then used to **fetch and send data as batches** for your Model.\n",
    "\n",
    "You will see that using Lightning makes things clearer. LightningDataModule allows you to write cleaner Code and fit easily your data to your model.\n",
    "\n",
    "You can always, use the basic Pytorch Dataloader in a separate code."
   ]
  },
  {
   "cell_type": "markdown",
   "source": [
    "We are first going to work with the MNIST dataset. There is already a MNIST class provided in the Torchvision library, so we don't have to code the Dataset implementation ourself.\n",
    "* Fill in the blanks"
   ],
   "metadata": {
    "id": "xaDUVAFvqp5h"
   }
  },
  {
   "cell_type": "markdown",
   "source": [
    "### Exploratory Data Analysis : Discovering the Data\n",
    "\n",
    "Before tackling the classification task it is essential to explore the data we are working on, and understand its specifics.\n",
    "Perform an Exploratory Data Analysis (EDA) on the MNIST Dataset :\n",
    "\n",
    "1.   What type of Data do you have ? (Images, Texts, Sound..)\n",
    "2.   How many Data do you have ? \n",
    "3.   What's in a sample (1 element of the Dataset)\n",
    "4.   Is the Dataset umbalanced ?\n",
    "5.   What's the shape of any input sample ?\n",
    "6.   ....\n",
    "\n",
    "\n"
   ],
   "metadata": {
    "id": "qrxvDv_8r9mU"
   }
  },
  {
   "cell_type": "code",
   "source": [
    "# Loading the Training Split of MNIST Dataset\n",
    "dataset_train  = MNIST('', train=True, download=True)\n",
    "dataset_test = MNIST('', train=False, download=True)"
   ],
   "metadata": {
    "id": "EDrwvhJAsEz_",
    "ExecuteTime": {
     "end_time": "2024-10-22T09:51:24.720404Z",
     "start_time": "2024-10-22T09:51:24.668257Z"
    }
   },
   "outputs": [],
   "execution_count": 39
  },
  {
   "cell_type": "code",
   "source": [
    "# TODO : What's the length of the train and test split ?\n",
    "\n",
    "print(\"the length if the test dataset is :\",len(dataset_test))\n",
    "print(\"the length of the train dataset is :\",len(dataset_train))"
   ],
   "metadata": {
    "id": "8vwYTFrhtZ43",
    "outputId": "f3074ec1-6863-4aa4-aac6-540ae2ade880",
    "colab": {
     "base_uri": "https://localhost:8080/"
    },
    "ExecuteTime": {
     "end_time": "2024-10-22T09:51:24.725778Z",
     "start_time": "2024-10-22T09:51:24.722585Z"
    }
   },
   "outputs": [
    {
     "name": "stdout",
     "output_type": "stream",
     "text": [
      "the length if the test dataset is : 10000\n",
      "the length of the train dataset is : 60000\n"
     ]
    }
   ],
   "execution_count": 40
  },
  {
   "cell_type": "code",
   "source": [
    "# TODO : Retrieve one sample of the Dataset.\n",
    "sample, label = dataset_train[0]\n",
    "\n",
    "# TODO : What is in a sample ? Print the sample to understand\n",
    "print(f\"Sample shape: {sample}, Label: {label}\")"
   ],
   "metadata": {
    "id": "IF-0t0ETt1Fa",
    "outputId": "d8fbc436-4601-4d53-cee5-e046526f8522",
    "colab": {
     "base_uri": "https://localhost:8080/"
    },
    "ExecuteTime": {
     "end_time": "2024-10-22T09:51:24.732853Z",
     "start_time": "2024-10-22T09:51:24.727297Z"
    }
   },
   "outputs": [
    {
     "name": "stdout",
     "output_type": "stream",
     "text": [
      "Sample shape: <PIL.Image.Image image mode=L size=28x28 at 0x31818E400>, Label: 5\n"
     ]
    }
   ],
   "execution_count": 41
  },
  {
   "cell_type": "code",
   "source": [
    "# TODO : Plot the image in the sample. Does it correspond to the second element of the sample ?\n",
    "\n",
    "plt.imshow(sample, cmap='gray')\n",
    "plt.title(f'Label: {label}')\n",
    "plt.show()"
   ],
   "metadata": {
    "id": "pNqZ8DmhuDU0",
    "ExecuteTime": {
     "end_time": "2024-10-22T09:51:24.960111Z",
     "start_time": "2024-10-22T09:51:24.736676Z"
    }
   },
   "outputs": [
    {
     "data": {
      "text/plain": [
       "<Figure size 640x480 with 1 Axes>"
      ],
      "image/png": "[encoded data removed]"
     },
     "metadata": {},
     "output_type": "display_data"
    }
   ],
   "execution_count": 42
  },
  {
   "cell_type": "code",
   "source": [
    "# TODO : What's the shape of the input image.\n",
    "shape = sample.size\n",
    "\n",
    "print(f\"The shape of the sample is :{shape}\")"
   ],
   "metadata": {
    "id": "QUYEXO0TuZ24",
    "ExecuteTime": {
     "end_time": "2024-10-22T09:51:24.967508Z",
     "start_time": "2024-10-22T09:51:24.964271Z"
    }
   },
   "outputs": [
    {
     "name": "stdout",
     "output_type": "stream",
     "text": [
      "The shape of the sample is :(28, 28)\n"
     ]
    }
   ],
   "execution_count": 43
  },
  {
   "cell_type": "markdown",
   "metadata": {
    "id": "PBDDrYrKlr8X"
   },
   "source": [
    "### Lightning DataModule : Dataset and DataLoader Embedded \n",
    "\n",
    "Pytorch Lightning introduces a new way to define and organize our dataset via \"data module\". They neatly encompass our training, validation and testing datasets and provide their dataloaders as well.\n",
    "\n",
    "Have a look at : https://pytorch.org/vision/stable/datasets.html\n",
    "\n",
    "We are now going to define a `LightningDataModule` for the MNIST dataset. "
   ]
  },
  {
   "cell_type": "code",
   "metadata": {
    "id": "HsUhr7BihqxX",
    "ExecuteTime": {
     "end_time": "2024-10-22T09:51:24.990170Z",
     "start_time": "2024-10-22T09:51:24.968990Z"
    }
   },
   "source": [
    "class MNISTDataModule(pl.LightningDataModule):\n",
    "\n",
    "    def __init__(self):\n",
    "        super().__init__()\n",
    "        self.transform = transforms.Compose([transforms.ToTensor(), transforms.Normalize((0.1307,), (0.3081,))])\n",
    "        self.data_dir = ''\n",
    "        self.batch_size_train, self.batch_size_valid, self.batch_size_test = 32,32,32\n",
    "\n",
    "    def prepare_data(self):\n",
    "        # This method is used to download beforehand the dataset if needed.\n",
    "        # TODO : Load the train and test dataset.\n",
    "        dataset_train = MNIST(self.data_dir, train=True, download=True)\n",
    "        dataset_test = MNIST(self.data_dir, train=False, download=True)\n",
    "        \n",
    "\n",
    "    def setup(self, stage):\n",
    "        # We need to setup our module. We have \n",
    "        #  1. A training set that we will **fit** our model to\n",
    "        #  2. A testing set used to **test** our models prediction.\n",
    "        \n",
    "        # The stage variable corresponds to those two steps : \n",
    "        # stage in {fit, test, None}\n",
    "\n",
    "        # First stage is 'fit' (or None)\n",
    "        if stage == \"fit\" or stage is None:\n",
    "            # We create a validation split to watch the training.\n",
    "\n",
    "            # Which dataset do we load for training ?\n",
    "            mnist_dataset = MNIST(self.data_dir, train=True, transform=self.transform)\n",
    "            train_size = int(0.8 * len(mnist_dataset))\n",
    "            valid_size = len(mnist_dataset) - train_size\n",
    "            mnist_train, mnist_valid =  torch.utils.data.random_split(mnist_dataset, [train_size, valid_size]) #random split into valid and train set\n",
    "            \n",
    "            # Load the datasets as attributes of the Module. Don't forget you validation split\n",
    "            self.mnist_train, self.mnist_valid = mnist_train, mnist_valid\n",
    "\n",
    "        # Second stage is 'test' \n",
    "        if stage == \"test\" or stage is None:\n",
    "\n",
    "            self.mnist_test = MNIST(self.data_dir, train=False, transform=self.transform)\n",
    "            # Question : What additional set can we create ? Why ?\n",
    "            # We can do the same and split the test set into validation and test\n",
    "            # It is not a usual application\n",
    "            # It can be done for hyperparameters application\n",
    "\n",
    "    def train_dataloader(self):\n",
    "        # TODO : Now create your Training DataLoader\n",
    "        return torch.utils.data.DataLoader(self.mnist_train, batch_size=self.batch_size_train, shuffle=True)\n",
    "\n",
    "\n",
    "    def val_dataloader(self):\n",
    "        # TODO : Now create your Validation DataLoader\n",
    "        return torch.utils.data.DataLoader(self.mnist_valid, batch_size=self.batch_size_valid)\n",
    "\n",
    "    def test_dataloader(self):\n",
    "        # TODO : Now create your Testing DataLoader\n",
    "        return torch.utils.data.DataLoader(self.mnist_test, batch_size=self.batch_size_test)\n",
    "\n"
   ],
   "outputs": [],
   "execution_count": 44
  },
  {
   "cell_type": "markdown",
   "metadata": {
    "id": "71GzlDYqj5xY"
   },
   "source": [
    "## b - LightningModule :  MNIST Classifier \n",
    "\n",
    "Similarly to `LightningDataModule`, pytorch Lightning provides a `LightningModule` that gathers every functions needed for the training and testing of our pytorch model.\n",
    " \n",
    "Design a model to perform Classification using the `LightningModule` class layout. Again, ask yourself the following questions: \n",
    "* What task is it ?\n",
    "* What data do I have ?\n",
    "* What learning rate should I use ?\n",
    "* What could be my loss ? Why ?\n",
    "* What non-linearity should I use ?\n",
    "* How do I evaluate my model ? (TorchMetrics is your friend)"
   ]
  },
  {
   "cell_type": "code",
   "metadata": {
    "id": "XUBuWwX3iypq",
    "ExecuteTime": {
     "end_time": "2024-10-22T10:10:32.292122Z",
     "start_time": "2024-10-22T10:10:32.261133Z"
    }
   },
   "source": [
    "class MNISTClassifier(pl.LightningModule):\n",
    "    def __init__(self, output_shape, learning_rate=1e-3):\n",
    "        super(MNISTClassifier,self).__init__()\n",
    "        # what is the output_shape of your model ?\n",
    "        self.output_shape = output_shape\n",
    "        self.save_hyperparameters()\n",
    "        self.learning_rate = learning_rate  # Save the learning rate as an instance attribute\n",
    "\n",
    "        # TODO : Define your model here, be careful, your model will be an instance of the class. Watch  out for the input data.\n",
    "        \n",
    "        # Ddefine the model (réseau de neurones simple pour MNIST)\n",
    "        self.model = nn.Sequential(\n",
    "            nn.Flatten(), #Flatten images 28x28 into a vector of 784\n",
    "            nn.Linear(28 * 28, 128),  # First fully connected layer\n",
    "            nn.ReLU(),  # Non-linear activation\n",
    "            nn.Linear(128, 64),  # Second fully connected layer\n",
    "            nn.ReLU(),  # Non-linear activation\n",
    "            nn.Linear(64, self.output_shape)  # Final layer for the 10 classe output\n",
    "        )\n",
    "\n",
    "        # Accuracy using torchmetrics\n",
    "        self.accuracy = torchmetrics.Accuracy(task=\"multiclass\", num_classes=self.output_shape)\n",
    "        \n",
    "        self.train_acc = self.accuracy\n",
    "        self.val_acc = self.accuracy\n",
    "        self.test_acc = self.accuracy\n",
    "        \n",
    "        \n",
    "    def forward(self,x):\n",
    "        # TODO : What would be the forward steps of this classifier ? Return the output of our classifier given an input batch x.\n",
    "        return self.model(x)\n",
    "\n",
    "    def configure_optimizers(self):\n",
    "        # TODO : Choose your optimizer : https://pytorch.org/docs/stable/optim.html\n",
    "        optimizer = torch.optim.Adam(self.parameters(), lr=self.hparams.learning_rate)\n",
    "        return optimizer\n",
    "\n",
    "    def training_step(self, batch, batch_idx):\n",
    "        # TODO : Define your Training Step\n",
    "        # Extract data from the batch (x = images, y = labels)\n",
    "        x, y = batch\n",
    "    \n",
    "        # Pass the images through the model\n",
    "        logits = self(x)  # The model returns raw logits (unnormalized outputs)\n",
    "    \n",
    "        # Compute the loss using CrossEntropyLoss (suitable for multi-class classification)\n",
    "        loss = nn.CrossEntropyLoss()(logits, y)\n",
    "    \n",
    "        # Calculate accuracy using the TorchMetrics Accuracy method defined in __init__\n",
    "        acc = self.train(logits.softmax(-1), y)\n",
    "    \n",
    "        # Log the training accuracy (on_epoch=True means we log it after the full epoch, not after each batch)\n",
    "        self.log('train_acc', acc, on_step=False, on_epoch=True)  # Log training accuracy\n",
    "    \n",
    "        # Log the training loss (logged for every batch)\n",
    "        self.log('train_loss', loss)\n",
    "    \n",
    "        # Return the loss, which will be used for backpropagation\n",
    "        return loss\n",
    "\n",
    "    def validation_step(self, batch, batch_idx):\n",
    "        # TODO : Define your Validation Step\n",
    "        # What is the difference between the Training and the Validation Step ?\n",
    "        # there is no backpropagation on this step, the only aim is to measure the performance of the model, no weights update\n",
    "        \n",
    "        # Extract data from the batch (x = images, y = labels)\n",
    "        x, y = batch\n",
    "    \n",
    "        # Pass the images through the model (forward pass)\n",
    "        logits = self(x)  # The model returns raw logits (unnormalized outputs)\n",
    "    \n",
    "        # Compute the loss using CrossEntropyLoss (suitable for multi-class classification)\n",
    "        loss = nn.CrossEntropyLoss()(logits, y)\n",
    "    \n",
    "        # Calculate accuracy using TorchMetrics Accuracy method defined in __init__\n",
    "        acc = self.val_acc(logits.softmax(-1), y)\n",
    "    \n",
    "        # Log the validation accuracy and loss\n",
    "        self.log('val_acc', acc, on_step=False, on_epoch=True)  # Log validation accuracy\n",
    "        self.log('val_loss', loss)  # Log validation loss\n",
    "    \n",
    "        # Return the loss (even though it's not used for backpropagation in validation)\n",
    "        return loss\n",
    "    \n",
    "    def test_step(self, batch, batch_idx):\n",
    "        # TODO : Define your Test Step\n",
    "        # Extract data from the batch (x = images, y = labels)\n",
    "        x, y = batch\n",
    "        \n",
    "        # Difference ?\n",
    "        #Again no back propagation\n",
    "        # Pass the images through the model (forward pass)\n",
    "        logits = self(x)  # The model returns raw logits (unnormalized outputs)\n",
    "    \n",
    "        # Compute the loss using CrossEntropyLoss (suitable for multi-class classification)\n",
    "        loss = nn.CrossEntropyLoss()(logits, y)\n",
    "    \n",
    "        # Calculate accuracy using TorchMetrics Accuracy method defined in __init__\n",
    "        acc = self.test_acc(logits.softmax(-1), y)\n",
    "\n",
    "        # Log the test loss and accuracy\n",
    "        self.log('test_loss', loss)  # Log test loss\n",
    "        self.log('test_acc', acc)    # Log test accuracy\n",
    "        \n",
    "        return loss\n",
    "    \n",
    "    def test_epoch_start(self):\n",
    "        # Initialize accuracy accumulator\n",
    "        self.acc = 0  # This will store the sum of accuracies across batches\n",
    "        self.num_batches = 0  # Counter for the number of batches\n",
    "\n",
    "    def on_test_epoch_end(self):\n",
    "        # Calculate the average accuracy across all batches\n",
    "        final_acc = self.acc / self.num_batches  # Compute the mean accuracy\n",
    "\n",
    "        # Log the final accuracy for the entire test set\n",
    "        self.log('Final Accuracy', final_acc)"
   ],
   "outputs": [],
   "execution_count": 52
  },
  {
   "cell_type": "markdown",
   "metadata": {
    "id": "4TV-SLU6kWV7"
   },
   "source": [
    "## c - Did you say Train ?\n",
    "\n",
    "Let's train the model. \n",
    "\n",
    "We create our so called Trainer that will handle a lot of thing for us. Lightning trainer is full of interesting assets that helps you for your training. The lightning trainer is a much more evolved Trainer than the one in the Tutorial.\n",
    "\n",
    "To get a glance of what Lightning Trainer can give :\n",
    "https://pytorch-lightning.readthedocs.io/en/latest/common/trainer.html\n",
    "\n",
    "It also easily lets us using TensorBoard. "
   ]
  },
  {
   "cell_type": "code",
   "metadata": {
    "id": "L9wyr4pjj5R-",
    "ExecuteTime": {
     "end_time": "2024-10-22T10:02:04.748333Z",
     "start_time": "2024-10-22T09:58:59.417461Z"
    }
   },
   "source": [
    "from pytorch_lightning.loggers import TensorBoardLogger\n",
    "\n",
    "\n",
    "tb_logger = TensorBoardLogger(\"introduction to Lightning\")\n",
    "\n",
    "dm = MNISTDataModule()\n",
    "model = MNISTClassifier(10)\n",
    "\n",
    "trainer = pl.Trainer(devices=\"auto\",max_epochs=10,accelerator='gpu',logger=tb_logger)\n",
    "trainer.fit(model, dm)\n"
   ],
   "outputs": [
    {
     "name": "stderr",
     "output_type": "stream",
     "text": [
      "GPU available: True (mps), used: True\n",
      "TPU available: False, using: 0 TPU cores\n",
      "HPU available: False, using: 0 HPUs\n",
      "\n",
      "  | Name     | Type               | Params | Mode \n",
      "--------------------------------------------------------\n",
      "0 | model    | Sequential         | 109 K  | train\n",
      "1 | accuracy | MulticlassAccuracy | 0      | train\n",
      "--------------------------------------------------------\n",
      "109 K     Trainable params\n",
      "0         Non-trainable params\n",
      "109 K     Total params\n",
      "0.438     Total estimated model params size (MB)\n",
      "8         Modules in train mode\n",
      "0         Modules in eval mode\n"
     ]
    },
    {
     "data": {
      "text/plain": [
       "Sanity Checking: |          | 0/? [00:00<?, ?it/s]"
      ],
      "application/vnd.jupyter.widget-view+json": {
       "version_major": 2,
       "version_minor": 0,
       "model_id": "b1e1454fa1fc4982bdade4318aa7b7dc"
      }
     },
     "metadata": {},
     "output_type": "display_data"
    },
    {
     "data": {
      "text/plain": [
       "Training: |          | 0/? [00:00<?, ?it/s]"
      ],
      "application/vnd.jupyter.widget-view+json": {
       "version_major": 2,
       "version_minor": 0,
       "model_id": "94938f1544d94389952ef147b44fb621"
      }
     },
     "metadata": {},
     "output_type": "display_data"
    },
    {
     "data": {
      "text/plain": [
       "Validation: |          | 0/? [00:00<?, ?it/s]"
      ],
      "application/vnd.jupyter.widget-view+json": {
       "version_major": 2,
       "version_minor": 0,
       "model_id": "db8572609d32410ab7e86175c363ac2b"
      }
     },
     "metadata": {},
     "output_type": "display_data"
    },
    {
     "data": {
      "text/plain": [
       "Validation: |          | 0/? [00:00<?, ?it/s]"
      ],
      "application/vnd.jupyter.widget-view+json": {
       "version_major": 2,
       "version_minor": 0,
       "model_id": "aa367e72d1184013a750f63f2d4a992f"
      }
     },
     "metadata": {},
     "output_type": "display_data"
    },
    {
     "data": {
      "text/plain": [
       "Validation: |          | 0/? [00:00<?, ?it/s]"
      ],
      "application/vnd.jupyter.widget-view+json": {
       "version_major": 2,
       "version_minor": 0,
       "model_id": "ec959994927b4eefbaefa02fb60406f4"
      }
     },
     "metadata": {},
     "output_type": "display_data"
    },
    {
     "data": {
      "text/plain": [
       "Validation: |          | 0/? [00:00<?, ?it/s]"
      ],
      "application/vnd.jupyter.widget-view+json": {
       "version_major": 2,
       "version_minor": 0,
       "model_id": "1d9247f62118441095bcd20dcd2ac479"
      }
     },
     "metadata": {},
     "output_type": "display_data"
    },
    {
     "data": {
      "text/plain": [
       "Validation: |          | 0/? [00:00<?, ?it/s]"
      ],
      "application/vnd.jupyter.widget-view+json": {
       "version_major": 2,
       "version_minor": 0,
       "model_id": "aaf1b1f992894cbab2381b634febfdb6"
      }
     },
     "metadata": {},
     "output_type": "display_data"
    },
    {
     "data": {
      "text/plain": [
       "Validation: |          | 0/? [00:00<?, ?it/s]"
      ],
      "application/vnd.jupyter.widget-view+json": {
       "version_major": 2,
       "version_minor": 0,
       "model_id": "38aab85b172c4ab0b884bdacb6345541"
      }
     },
     "metadata": {},
     "output_type": "display_data"
    },
    {
     "data": {
      "text/plain": [
       "Validation: |          | 0/? [00:00<?, ?it/s]"
      ],
      "application/vnd.jupyter.widget-view+json": {
       "version_major": 2,
       "version_minor": 0,
       "model_id": "7fb2e7aad30a431fb3018427ac3ffd2e"
      }
     },
     "metadata": {},
     "output_type": "display_data"
    },
    {
     "data": {
      "text/plain": [
       "Validation: |          | 0/? [00:00<?, ?it/s]"
      ],
      "application/vnd.jupyter.widget-view+json": {
       "version_major": 2,
       "version_minor": 0,
       "model_id": "0d49a2d5553d48cfa6e024e7f4121640"
      }
     },
     "metadata": {},
     "output_type": "display_data"
    },
    {
     "data": {
      "text/plain": [
       "Validation: |          | 0/? [00:00<?, ?it/s]"
      ],
      "application/vnd.jupyter.widget-view+json": {
       "version_major": 2,
       "version_minor": 0,
       "model_id": "729bece779314b19ac983c36dfb97861"
      }
     },
     "metadata": {},
     "output_type": "display_data"
    },
    {
     "data": {
      "text/plain": [
       "Validation: |          | 0/? [00:00<?, ?it/s]"
      ],
      "application/vnd.jupyter.widget-view+json": {
       "version_major": 2,
       "version_minor": 0,
       "model_id": "7b9bb65d6f3e4479ad5aede8f35501bb"
      }
     },
     "metadata": {},
     "output_type": "display_data"
    },
    {
     "name": "stderr",
     "output_type": "stream",
     "text": [
      "`Trainer.fit` stopped: `max_epochs=10` reached.\n"
     ]
    }
   ],
   "execution_count": 51
  },
  {
   "cell_type": "markdown",
   "metadata": {
    "id": "ej56Kf9Zkefo"
   },
   "source": "Oh it's training ! Happy ? Easy ? Let's test the model"
  },
  {
   "cell_type": "markdown",
   "metadata": {
    "id": "IaWmGYVTjRz5"
   },
   "source": [
    "## d - Did you say Test ?\n",
    "\n",
    "For testing, well it's pretty easy "
   ]
  },
  {
   "cell_type": "code",
   "metadata": {
    "id": "idVeeYZKVvSS",
    "ExecuteTime": {
     "end_time": "2024-10-22T09:54:35.006060Z",
     "start_time": "2024-10-22T09:54:34.481978Z"
    }
   },
   "source": "trainer.test(model,dm)",
   "outputs": [
    {
     "data": {
      "text/plain": [
       "Testing: |          | 0/? [00:00<?, ?it/s]"
      ],
      "application/vnd.jupyter.widget-view+json": {
       "version_major": 2,
       "version_minor": 0,
       "model_id": "870a22bf74db4368b02b717ba6962820"
      }
     },
     "metadata": {},
     "output_type": "display_data"
    },
    {
     "ename": "AttributeError",
     "evalue": "'MNISTClassifier' object has no attribute 'acc'",
     "output_type": "error",
     "traceback": [
      "\u001B[0;31m---------------------------------------------------------------------------\u001B[0m",
      "\u001B[0;31mAttributeError\u001B[0m                            Traceback (most recent call last)",
      "Cell \u001B[0;32mIn[47], line 1\u001B[0m\n\u001B[0;32m----> 1\u001B[0m \u001B[43mtrainer\u001B[49m\u001B[38;5;241;43m.\u001B[39;49m\u001B[43mtest\u001B[49m\u001B[43m(\u001B[49m\u001B[43mmodel\u001B[49m\u001B[43m,\u001B[49m\u001B[43mdm\u001B[49m\u001B[43m)\u001B[49m\n",
      "File \u001B[0;32m~/PycharmProjects/Deep_Learning/.venv/lib/python3.9/site-packages/pytorch_lightning/trainer/trainer.py:748\u001B[0m, in \u001B[0;36mTrainer.test\u001B[0;34m(self, model, dataloaders, ckpt_path, verbose, datamodule)\u001B[0m\n\u001B[1;32m    746\u001B[0m \u001B[38;5;28mself\u001B[39m\u001B[38;5;241m.\u001B[39mstate\u001B[38;5;241m.\u001B[39mstatus \u001B[38;5;241m=\u001B[39m TrainerStatus\u001B[38;5;241m.\u001B[39mRUNNING\n\u001B[1;32m    747\u001B[0m \u001B[38;5;28mself\u001B[39m\u001B[38;5;241m.\u001B[39mtesting \u001B[38;5;241m=\u001B[39m \u001B[38;5;28;01mTrue\u001B[39;00m\n\u001B[0;32m--> 748\u001B[0m \u001B[38;5;28;01mreturn\u001B[39;00m \u001B[43mcall\u001B[49m\u001B[38;5;241;43m.\u001B[39;49m\u001B[43m_call_and_handle_interrupt\u001B[49m\u001B[43m(\u001B[49m\n\u001B[1;32m    749\u001B[0m \u001B[43m    \u001B[49m\u001B[38;5;28;43mself\u001B[39;49m\u001B[43m,\u001B[49m\u001B[43m \u001B[49m\u001B[38;5;28;43mself\u001B[39;49m\u001B[38;5;241;43m.\u001B[39;49m\u001B[43m_test_impl\u001B[49m\u001B[43m,\u001B[49m\u001B[43m \u001B[49m\u001B[43mmodel\u001B[49m\u001B[43m,\u001B[49m\u001B[43m \u001B[49m\u001B[43mdataloaders\u001B[49m\u001B[43m,\u001B[49m\u001B[43m \u001B[49m\u001B[43mckpt_path\u001B[49m\u001B[43m,\u001B[49m\u001B[43m \u001B[49m\u001B[43mverbose\u001B[49m\u001B[43m,\u001B[49m\u001B[43m \u001B[49m\u001B[43mdatamodule\u001B[49m\n\u001B[1;32m    750\u001B[0m \u001B[43m\u001B[49m\u001B[43m)\u001B[49m\n",
      "File \u001B[0;32m~/PycharmProjects/Deep_Learning/.venv/lib/python3.9/site-packages/pytorch_lightning/trainer/call.py:47\u001B[0m, in \u001B[0;36m_call_and_handle_interrupt\u001B[0;34m(trainer, trainer_fn, *args, **kwargs)\u001B[0m\n\u001B[1;32m     45\u001B[0m     \u001B[38;5;28;01mif\u001B[39;00m trainer\u001B[38;5;241m.\u001B[39mstrategy\u001B[38;5;241m.\u001B[39mlauncher \u001B[38;5;129;01mis\u001B[39;00m \u001B[38;5;129;01mnot\u001B[39;00m \u001B[38;5;28;01mNone\u001B[39;00m:\n\u001B[1;32m     46\u001B[0m         \u001B[38;5;28;01mreturn\u001B[39;00m trainer\u001B[38;5;241m.\u001B[39mstrategy\u001B[38;5;241m.\u001B[39mlauncher\u001B[38;5;241m.\u001B[39mlaunch(trainer_fn, \u001B[38;5;241m*\u001B[39margs, trainer\u001B[38;5;241m=\u001B[39mtrainer, \u001B[38;5;241m*\u001B[39m\u001B[38;5;241m*\u001B[39mkwargs)\n\u001B[0;32m---> 47\u001B[0m     \u001B[38;5;28;01mreturn\u001B[39;00m \u001B[43mtrainer_fn\u001B[49m\u001B[43m(\u001B[49m\u001B[38;5;241;43m*\u001B[39;49m\u001B[43margs\u001B[49m\u001B[43m,\u001B[49m\u001B[43m \u001B[49m\u001B[38;5;241;43m*\u001B[39;49m\u001B[38;5;241;43m*\u001B[39;49m\u001B[43mkwargs\u001B[49m\u001B[43m)\u001B[49m\n\u001B[1;32m     49\u001B[0m \u001B[38;5;28;01mexcept\u001B[39;00m _TunerExitException:\n\u001B[1;32m     50\u001B[0m     _call_teardown_hook(trainer)\n",
      "File \u001B[0;32m~/PycharmProjects/Deep_Learning/.venv/lib/python3.9/site-packages/pytorch_lightning/trainer/trainer.py:788\u001B[0m, in \u001B[0;36mTrainer._test_impl\u001B[0;34m(self, model, dataloaders, ckpt_path, verbose, datamodule)\u001B[0m\n\u001B[1;32m    784\u001B[0m \u001B[38;5;28;01massert\u001B[39;00m \u001B[38;5;28mself\u001B[39m\u001B[38;5;241m.\u001B[39mstate\u001B[38;5;241m.\u001B[39mfn \u001B[38;5;129;01mis\u001B[39;00m \u001B[38;5;129;01mnot\u001B[39;00m \u001B[38;5;28;01mNone\u001B[39;00m\n\u001B[1;32m    785\u001B[0m ckpt_path \u001B[38;5;241m=\u001B[39m \u001B[38;5;28mself\u001B[39m\u001B[38;5;241m.\u001B[39m_checkpoint_connector\u001B[38;5;241m.\u001B[39m_select_ckpt_path(\n\u001B[1;32m    786\u001B[0m     \u001B[38;5;28mself\u001B[39m\u001B[38;5;241m.\u001B[39mstate\u001B[38;5;241m.\u001B[39mfn, ckpt_path, model_provided\u001B[38;5;241m=\u001B[39mmodel_provided, model_connected\u001B[38;5;241m=\u001B[39m\u001B[38;5;28mself\u001B[39m\u001B[38;5;241m.\u001B[39mlightning_module \u001B[38;5;129;01mis\u001B[39;00m \u001B[38;5;129;01mnot\u001B[39;00m \u001B[38;5;28;01mNone\u001B[39;00m\n\u001B[1;32m    787\u001B[0m )\n\u001B[0;32m--> 788\u001B[0m results \u001B[38;5;241m=\u001B[39m \u001B[38;5;28;43mself\u001B[39;49m\u001B[38;5;241;43m.\u001B[39;49m\u001B[43m_run\u001B[49m\u001B[43m(\u001B[49m\u001B[43mmodel\u001B[49m\u001B[43m,\u001B[49m\u001B[43m \u001B[49m\u001B[43mckpt_path\u001B[49m\u001B[38;5;241;43m=\u001B[39;49m\u001B[43mckpt_path\u001B[49m\u001B[43m)\u001B[49m\n\u001B[1;32m    789\u001B[0m \u001B[38;5;66;03m# remove the tensors from the test results\u001B[39;00m\n\u001B[1;32m    790\u001B[0m results \u001B[38;5;241m=\u001B[39m convert_tensors_to_scalars(results)\n",
      "File \u001B[0;32m~/PycharmProjects/Deep_Learning/.venv/lib/python3.9/site-packages/pytorch_lightning/trainer/trainer.py:981\u001B[0m, in \u001B[0;36mTrainer._run\u001B[0;34m(self, model, ckpt_path)\u001B[0m\n\u001B[1;32m    976\u001B[0m \u001B[38;5;28mself\u001B[39m\u001B[38;5;241m.\u001B[39m_signal_connector\u001B[38;5;241m.\u001B[39mregister_signal_handlers()\n\u001B[1;32m    978\u001B[0m \u001B[38;5;66;03m# ----------------------------\u001B[39;00m\n\u001B[1;32m    979\u001B[0m \u001B[38;5;66;03m# RUN THE TRAINER\u001B[39;00m\n\u001B[1;32m    980\u001B[0m \u001B[38;5;66;03m# ----------------------------\u001B[39;00m\n\u001B[0;32m--> 981\u001B[0m results \u001B[38;5;241m=\u001B[39m \u001B[38;5;28;43mself\u001B[39;49m\u001B[38;5;241;43m.\u001B[39;49m\u001B[43m_run_stage\u001B[49m\u001B[43m(\u001B[49m\u001B[43m)\u001B[49m\n\u001B[1;32m    983\u001B[0m \u001B[38;5;66;03m# ----------------------------\u001B[39;00m\n\u001B[1;32m    984\u001B[0m \u001B[38;5;66;03m# POST-Training CLEAN UP\u001B[39;00m\n\u001B[1;32m    985\u001B[0m \u001B[38;5;66;03m# ----------------------------\u001B[39;00m\n\u001B[1;32m    986\u001B[0m log\u001B[38;5;241m.\u001B[39mdebug(\u001B[38;5;124mf\u001B[39m\u001B[38;5;124m\"\u001B[39m\u001B[38;5;132;01m{\u001B[39;00m\u001B[38;5;28mself\u001B[39m\u001B[38;5;241m.\u001B[39m\u001B[38;5;18m__class__\u001B[39m\u001B[38;5;241m.\u001B[39m\u001B[38;5;18m__name__\u001B[39m\u001B[38;5;132;01m}\u001B[39;00m\u001B[38;5;124m: trainer tearing down\u001B[39m\u001B[38;5;124m\"\u001B[39m)\n",
      "File \u001B[0;32m~/PycharmProjects/Deep_Learning/.venv/lib/python3.9/site-packages/pytorch_lightning/trainer/trainer.py:1018\u001B[0m, in \u001B[0;36mTrainer._run_stage\u001B[0;34m(self)\u001B[0m\n\u001B[1;32m   1015\u001B[0m \u001B[38;5;28mself\u001B[39m\u001B[38;5;241m.\u001B[39mlightning_module\u001B[38;5;241m.\u001B[39mzero_grad()\n\u001B[1;32m   1017\u001B[0m \u001B[38;5;28;01mif\u001B[39;00m \u001B[38;5;28mself\u001B[39m\u001B[38;5;241m.\u001B[39mevaluating:\n\u001B[0;32m-> 1018\u001B[0m     \u001B[38;5;28;01mreturn\u001B[39;00m \u001B[38;5;28;43mself\u001B[39;49m\u001B[38;5;241;43m.\u001B[39;49m\u001B[43m_evaluation_loop\u001B[49m\u001B[38;5;241;43m.\u001B[39;49m\u001B[43mrun\u001B[49m\u001B[43m(\u001B[49m\u001B[43m)\u001B[49m\n\u001B[1;32m   1019\u001B[0m \u001B[38;5;28;01mif\u001B[39;00m \u001B[38;5;28mself\u001B[39m\u001B[38;5;241m.\u001B[39mpredicting:\n\u001B[1;32m   1020\u001B[0m     \u001B[38;5;28;01mreturn\u001B[39;00m \u001B[38;5;28mself\u001B[39m\u001B[38;5;241m.\u001B[39mpredict_loop\u001B[38;5;241m.\u001B[39mrun()\n",
      "File \u001B[0;32m~/PycharmProjects/Deep_Learning/.venv/lib/python3.9/site-packages/pytorch_lightning/loops/utilities.py:178\u001B[0m, in \u001B[0;36m_no_grad_context.<locals>._decorator\u001B[0;34m(self, *args, **kwargs)\u001B[0m\n\u001B[1;32m    176\u001B[0m     context_manager \u001B[38;5;241m=\u001B[39m torch\u001B[38;5;241m.\u001B[39mno_grad\n\u001B[1;32m    177\u001B[0m \u001B[38;5;28;01mwith\u001B[39;00m context_manager():\n\u001B[0;32m--> 178\u001B[0m     \u001B[38;5;28;01mreturn\u001B[39;00m \u001B[43mloop_run\u001B[49m\u001B[43m(\u001B[49m\u001B[38;5;28;43mself\u001B[39;49m\u001B[43m,\u001B[49m\u001B[43m \u001B[49m\u001B[38;5;241;43m*\u001B[39;49m\u001B[43margs\u001B[49m\u001B[43m,\u001B[49m\u001B[43m \u001B[49m\u001B[38;5;241;43m*\u001B[39;49m\u001B[38;5;241;43m*\u001B[39;49m\u001B[43mkwargs\u001B[49m\u001B[43m)\u001B[49m\n",
      "File \u001B[0;32m~/PycharmProjects/Deep_Learning/.venv/lib/python3.9/site-packages/pytorch_lightning/loops/evaluation_loop.py:135\u001B[0m, in \u001B[0;36m_EvaluationLoop.run\u001B[0;34m(self)\u001B[0m\n\u001B[1;32m    133\u001B[0m     \u001B[38;5;28mself\u001B[39m\u001B[38;5;241m.\u001B[39mbatch_progress\u001B[38;5;241m.\u001B[39mis_last_batch \u001B[38;5;241m=\u001B[39m data_fetcher\u001B[38;5;241m.\u001B[39mdone\n\u001B[1;32m    134\u001B[0m     \u001B[38;5;66;03m# run step hooks\u001B[39;00m\n\u001B[0;32m--> 135\u001B[0m     \u001B[38;5;28;43mself\u001B[39;49m\u001B[38;5;241;43m.\u001B[39;49m\u001B[43m_evaluation_step\u001B[49m\u001B[43m(\u001B[49m\u001B[43mbatch\u001B[49m\u001B[43m,\u001B[49m\u001B[43m \u001B[49m\u001B[43mbatch_idx\u001B[49m\u001B[43m,\u001B[49m\u001B[43m \u001B[49m\u001B[43mdataloader_idx\u001B[49m\u001B[43m,\u001B[49m\u001B[43m \u001B[49m\u001B[43mdataloader_iter\u001B[49m\u001B[43m)\u001B[49m\n\u001B[1;32m    136\u001B[0m \u001B[38;5;28;01mexcept\u001B[39;00m \u001B[38;5;167;01mStopIteration\u001B[39;00m:\n\u001B[1;32m    137\u001B[0m     \u001B[38;5;66;03m# this needs to wrap the `*_step` call too (not just `next`) for `dataloader_iter` support\u001B[39;00m\n\u001B[1;32m    138\u001B[0m     \u001B[38;5;28;01mbreak\u001B[39;00m\n",
      "File \u001B[0;32m~/PycharmProjects/Deep_Learning/.venv/lib/python3.9/site-packages/pytorch_lightning/loops/evaluation_loop.py:396\u001B[0m, in \u001B[0;36m_EvaluationLoop._evaluation_step\u001B[0;34m(self, batch, batch_idx, dataloader_idx, dataloader_iter)\u001B[0m\n\u001B[1;32m    390\u001B[0m hook_name \u001B[38;5;241m=\u001B[39m \u001B[38;5;124m\"\u001B[39m\u001B[38;5;124mtest_step\u001B[39m\u001B[38;5;124m\"\u001B[39m \u001B[38;5;28;01mif\u001B[39;00m trainer\u001B[38;5;241m.\u001B[39mtesting \u001B[38;5;28;01melse\u001B[39;00m \u001B[38;5;124m\"\u001B[39m\u001B[38;5;124mvalidation_step\u001B[39m\u001B[38;5;124m\"\u001B[39m\n\u001B[1;32m    391\u001B[0m step_args \u001B[38;5;241m=\u001B[39m (\n\u001B[1;32m    392\u001B[0m     \u001B[38;5;28mself\u001B[39m\u001B[38;5;241m.\u001B[39m_build_step_args_from_hook_kwargs(hook_kwargs, hook_name)\n\u001B[1;32m    393\u001B[0m     \u001B[38;5;28;01mif\u001B[39;00m \u001B[38;5;129;01mnot\u001B[39;00m using_dataloader_iter\n\u001B[1;32m    394\u001B[0m     \u001B[38;5;28;01melse\u001B[39;00m (dataloader_iter,)\n\u001B[1;32m    395\u001B[0m )\n\u001B[0;32m--> 396\u001B[0m output \u001B[38;5;241m=\u001B[39m \u001B[43mcall\u001B[49m\u001B[38;5;241;43m.\u001B[39;49m\u001B[43m_call_strategy_hook\u001B[49m\u001B[43m(\u001B[49m\u001B[43mtrainer\u001B[49m\u001B[43m,\u001B[49m\u001B[43m \u001B[49m\u001B[43mhook_name\u001B[49m\u001B[43m,\u001B[49m\u001B[43m \u001B[49m\u001B[38;5;241;43m*\u001B[39;49m\u001B[43mstep_args\u001B[49m\u001B[43m)\u001B[49m\n\u001B[1;32m    398\u001B[0m \u001B[38;5;28mself\u001B[39m\u001B[38;5;241m.\u001B[39mbatch_progress\u001B[38;5;241m.\u001B[39mincrement_processed()\n\u001B[1;32m    400\u001B[0m \u001B[38;5;28;01mif\u001B[39;00m using_dataloader_iter:\n\u001B[1;32m    401\u001B[0m     \u001B[38;5;66;03m# update the hook kwargs now that the step method might have consumed the iterator\u001B[39;00m\n",
      "File \u001B[0;32m~/PycharmProjects/Deep_Learning/.venv/lib/python3.9/site-packages/pytorch_lightning/trainer/call.py:319\u001B[0m, in \u001B[0;36m_call_strategy_hook\u001B[0;34m(trainer, hook_name, *args, **kwargs)\u001B[0m\n\u001B[1;32m    316\u001B[0m     \u001B[38;5;28;01mreturn\u001B[39;00m \u001B[38;5;28;01mNone\u001B[39;00m\n\u001B[1;32m    318\u001B[0m \u001B[38;5;28;01mwith\u001B[39;00m trainer\u001B[38;5;241m.\u001B[39mprofiler\u001B[38;5;241m.\u001B[39mprofile(\u001B[38;5;124mf\u001B[39m\u001B[38;5;124m\"\u001B[39m\u001B[38;5;124m[Strategy]\u001B[39m\u001B[38;5;132;01m{\u001B[39;00mtrainer\u001B[38;5;241m.\u001B[39mstrategy\u001B[38;5;241m.\u001B[39m\u001B[38;5;18m__class__\u001B[39m\u001B[38;5;241m.\u001B[39m\u001B[38;5;18m__name__\u001B[39m\u001B[38;5;132;01m}\u001B[39;00m\u001B[38;5;124m.\u001B[39m\u001B[38;5;132;01m{\u001B[39;00mhook_name\u001B[38;5;132;01m}\u001B[39;00m\u001B[38;5;124m\"\u001B[39m):\n\u001B[0;32m--> 319\u001B[0m     output \u001B[38;5;241m=\u001B[39m \u001B[43mfn\u001B[49m\u001B[43m(\u001B[49m\u001B[38;5;241;43m*\u001B[39;49m\u001B[43margs\u001B[49m\u001B[43m,\u001B[49m\u001B[43m \u001B[49m\u001B[38;5;241;43m*\u001B[39;49m\u001B[38;5;241;43m*\u001B[39;49m\u001B[43mkwargs\u001B[49m\u001B[43m)\u001B[49m\n\u001B[1;32m    321\u001B[0m \u001B[38;5;66;03m# restore current_fx when nested context\u001B[39;00m\n\u001B[1;32m    322\u001B[0m pl_module\u001B[38;5;241m.\u001B[39m_current_fx_name \u001B[38;5;241m=\u001B[39m prev_fx_name\n",
      "File \u001B[0;32m~/PycharmProjects/Deep_Learning/.venv/lib/python3.9/site-packages/pytorch_lightning/strategies/strategy.py:424\u001B[0m, in \u001B[0;36mStrategy.test_step\u001B[0;34m(self, *args, **kwargs)\u001B[0m\n\u001B[1;32m    422\u001B[0m \u001B[38;5;28;01mif\u001B[39;00m \u001B[38;5;28mself\u001B[39m\u001B[38;5;241m.\u001B[39mmodel \u001B[38;5;241m!=\u001B[39m \u001B[38;5;28mself\u001B[39m\u001B[38;5;241m.\u001B[39mlightning_module:\n\u001B[1;32m    423\u001B[0m     \u001B[38;5;28;01mreturn\u001B[39;00m \u001B[38;5;28mself\u001B[39m\u001B[38;5;241m.\u001B[39m_forward_redirection(\u001B[38;5;28mself\u001B[39m\u001B[38;5;241m.\u001B[39mmodel, \u001B[38;5;28mself\u001B[39m\u001B[38;5;241m.\u001B[39mlightning_module, \u001B[38;5;124m\"\u001B[39m\u001B[38;5;124mtest_step\u001B[39m\u001B[38;5;124m\"\u001B[39m, \u001B[38;5;241m*\u001B[39margs, \u001B[38;5;241m*\u001B[39m\u001B[38;5;241m*\u001B[39mkwargs)\n\u001B[0;32m--> 424\u001B[0m \u001B[38;5;28;01mreturn\u001B[39;00m \u001B[38;5;28;43mself\u001B[39;49m\u001B[38;5;241;43m.\u001B[39;49m\u001B[43mlightning_module\u001B[49m\u001B[38;5;241;43m.\u001B[39;49m\u001B[43mtest_step\u001B[49m\u001B[43m(\u001B[49m\u001B[38;5;241;43m*\u001B[39;49m\u001B[43margs\u001B[49m\u001B[43m,\u001B[49m\u001B[43m \u001B[49m\u001B[38;5;241;43m*\u001B[39;49m\u001B[38;5;241;43m*\u001B[39;49m\u001B[43mkwargs\u001B[49m\u001B[43m)\u001B[49m\n",
      "Cell \u001B[0;32mIn[45], line 97\u001B[0m, in \u001B[0;36mMNISTClassifier.test_step\u001B[0;34m(self, batch, batch_idx)\u001B[0m\n\u001B[1;32m     94\u001B[0m acc \u001B[38;5;241m=\u001B[39m \u001B[38;5;28mself\u001B[39m\u001B[38;5;241m.\u001B[39maccuracy(logits, y)\n\u001B[1;32m     96\u001B[0m \u001B[38;5;66;03m# Accumulate accuracy\u001B[39;00m\n\u001B[0;32m---> 97\u001B[0m \u001B[38;5;28mself\u001B[39m\u001B[38;5;241m.\u001B[39macc \u001B[38;5;241m+\u001B[39m\u001B[38;5;241m=\u001B[39m acc\n\u001B[1;32m     98\u001B[0m \u001B[38;5;28mself\u001B[39m\u001B[38;5;241m.\u001B[39mnum_batches \u001B[38;5;241m+\u001B[39m\u001B[38;5;241m=\u001B[39m \u001B[38;5;241m1\u001B[39m\n\u001B[1;32m    100\u001B[0m \u001B[38;5;66;03m# Log the test loss and accuracy\u001B[39;00m\n",
      "File \u001B[0;32m~/PycharmProjects/Deep_Learning/.venv/lib/python3.9/site-packages/torch/nn/modules/module.py:1931\u001B[0m, in \u001B[0;36mModule.__getattr__\u001B[0;34m(self, name)\u001B[0m\n\u001B[1;32m   1929\u001B[0m     \u001B[38;5;28;01mif\u001B[39;00m name \u001B[38;5;129;01min\u001B[39;00m modules:\n\u001B[1;32m   1930\u001B[0m         \u001B[38;5;28;01mreturn\u001B[39;00m modules[name]\n\u001B[0;32m-> 1931\u001B[0m \u001B[38;5;28;01mraise\u001B[39;00m \u001B[38;5;167;01mAttributeError\u001B[39;00m(\n\u001B[1;32m   1932\u001B[0m     \u001B[38;5;124mf\u001B[39m\u001B[38;5;124m\"\u001B[39m\u001B[38;5;124m'\u001B[39m\u001B[38;5;132;01m{\u001B[39;00m\u001B[38;5;28mtype\u001B[39m(\u001B[38;5;28mself\u001B[39m)\u001B[38;5;241m.\u001B[39m\u001B[38;5;18m__name__\u001B[39m\u001B[38;5;132;01m}\u001B[39;00m\u001B[38;5;124m'\u001B[39m\u001B[38;5;124m object has no attribute \u001B[39m\u001B[38;5;124m'\u001B[39m\u001B[38;5;132;01m{\u001B[39;00mname\u001B[38;5;132;01m}\u001B[39;00m\u001B[38;5;124m'\u001B[39m\u001B[38;5;124m\"\u001B[39m\n\u001B[1;32m   1933\u001B[0m )\n",
      "\u001B[0;31mAttributeError\u001B[0m: 'MNISTClassifier' object has no attribute 'acc'"
     ]
    }
   ],
   "execution_count": 47
  },
  {
   "cell_type": "markdown",
   "metadata": {
    "id": "IO_fuzVPMNX5"
   },
   "source": [
    "## e - TensorBoard\n",
    "\n",
    "TensorBoard is a really useful tool. Indeed, it let's you register interesting values during training and plot them INTERACTIVELY. You might have seen a self.log line in the Validation and Training steps. \n",
    "The self.log saves the loss value into a TensorBoard readable file. We can also add images or other values using self.log\n",
    "\n",
    "In fact, look at the checkpoint created by the training. You might see 3 files :\n",
    "* Checkpoint\n",
    "* event.out....\n",
    "* hparam.yaml\n",
    "\n",
    "Let's open tensorboard to see how the training was. Tensorboard is loadable using magic_python commands.\n",
    "More info on TensorBoard : https://www.tensorflow.org/tensorboard/get_started\n",
    "\n",
    "Another popular alternative to Tensorboard, also usable with pytorch lightning, is \"Weight and Biases\"."
   ]
  },
  {
   "cell_type": "code",
   "metadata": {
    "id": "JzLzFpFdkdoM"
   },
   "source": [
    "%reload_ext tensorboard\n",
    "%tensorboard --logdir \"/content/introduction to Lightning/default/version_0\""
   ],
   "outputs": [],
   "execution_count": null
  },
  {
   "cell_type": "markdown",
   "metadata": {
    "id": "eCx4XtQojqBf"
   },
   "source": [
    "Pytorch Lightning can be used along PyTorch. We encourage you to use PyTorch Lightning during your Lab Sessions and Career as it simplifies a lot of things for you (MultiGPU, Learning Rate Decay...)\n",
    "\n",
    "<img src='https://c.tenor.com/VyApQ-jWyV0AAAAC/happy-borat.gif'>\n",
    "\n"
   ]
  },
  {
   "cell_type": "markdown",
   "source": [
    "# II - Classify Objects using Lightning \n",
    "\n",
    "We will now turn to another classification task, this time object classification. We use the CIFAR-10 dataset which is made of 10 different classes of objects which we aim to distinguish. This part of the lab will be less restricted and more free. You now should have a sense of how to use the Lightning Framework. \n",
    "Be creative.\n"
   ],
   "metadata": {
    "id": "rq2vIzXbyXtk"
   }
  },
  {
   "cell_type": "markdown",
   "source": [
    "## a - Baseline : Creating your own Model\n",
    "\n",
    "In this first section, we will create a Simple Model and perform all steps from part 1 with the needed changes.\n",
    "\n",
    "*   **What's your final accuracy ?**\n"
   ],
   "metadata": {
    "id": "WVi6aj84y97g"
   }
  },
  {
   "cell_type": "markdown",
   "source": [
    "### i - DataModule"
   ],
   "metadata": {
    "id": "LodackDWzb9k"
   }
  },
  {
   "cell_type": "code",
   "source": [
    "transform = transforms.Compose([transforms.ToTensor(),transforms.Normalize((0.5, 0.5, 0.5), (0.5, 0.5, 0.5))])\n",
    "trainset = torchvision.datasets.CIFAR10(root='./data', train=True,\n",
    "                                        download=True, transform=transform)\n",
    "testset = torchvision.datasets.CIFAR10(root='./data', train=False,\n",
    "                                       download=True, transform=transform)"
   ],
   "metadata": {
    "id": "La8kvImxzgaf"
   },
   "outputs": [],
   "execution_count": null
  },
  {
   "cell_type": "code",
   "source": [
    "# TODO : EDA "
   ],
   "metadata": {
    "id": "dUes-3TPFhW8"
   },
   "outputs": [],
   "execution_count": null
  },
  {
   "cell_type": "code",
   "source": [
    "# TODO : Create your DataModule"
   ],
   "metadata": {
    "id": "-hJKuGjwFHxE"
   },
   "outputs": [],
   "execution_count": null
  },
  {
   "cell_type": "markdown",
   "source": [
    "### ii - Module"
   ],
   "metadata": {
    "id": "2ykxzmaMzhEr"
   }
  },
  {
   "cell_type": "code",
   "source": [
    "# TODO : Create your Module"
   ],
   "metadata": {
    "id": "iZWj3Qp8zgej"
   },
   "outputs": [],
   "execution_count": null
  },
  {
   "cell_type": "markdown",
   "source": [
    "### iii - Train"
   ],
   "metadata": {
    "id": "SjDUQJBhzloB"
   }
  },
  {
   "cell_type": "code",
   "source": [
    "# TODO : Train"
   ],
   "metadata": {
    "id": "i1-7v8j9zoAJ"
   },
   "outputs": [],
   "execution_count": null
  },
  {
   "cell_type": "markdown",
   "source": [
    "### iv - Test"
   ],
   "metadata": {
    "id": "I8RmPe1ozoxq"
   }
  },
  {
   "cell_type": "code",
   "source": [
    "# TODO : Test"
   ],
   "metadata": {
    "id": "zXDiuQOMzoxr"
   },
   "outputs": [],
   "execution_count": null
  },
  {
   "cell_type": "markdown",
   "source": [
    "\n",
    "**Does your model perform well on the CIFAR Dataset ?**\n",
    "\n",
    "\n"
   ],
   "metadata": {
    "id": "Ls7EK0Az2YFr"
   }
  },
  {
   "cell_type": "markdown",
   "source": [
    "## b - The OG Model : Finetuning a Model\n",
    "\n",
    "If your model performed well on the CIFAR-10 Dataset, congrats. But let's achieve better results. For industrial works, we often pretrain a model on a large dataset (ImageNet or internal Dataset), and then fine-tune the model on the Dataset of interest.\n",
    "\n",
    "* **What's the intuition behind fine-tuning ?**"
   ],
   "metadata": {
    "id": "hfcW6jcizB1I"
   }
  },
  {
   "cell_type": "markdown",
   "source": [
    "### i - Importing a Pretrained Model\n",
    "\n",
    "We will import a ConvNext model. Why ? It's said to be a really good backbone that competes with the Transformer models. Let's load the model. \n",
    "We are going to use TorchSummary to print what the size of the inputs and outputs are."
   ],
   "metadata": {
    "id": "0Qxg-fff7Ofw"
   }
  },
  {
   "cell_type": "code",
   "source": [
    "\n",
    "import torchvision\n",
    "model = torchvision.models.convnext_small(weights='DEFAULT')\n",
    "\n",
    "# TODO : Using torchsummary, print a summary of the model\n",
    "from torchsummary import summary\n",
    "summary(model)\n"
   ],
   "metadata": {
    "id": "DIgUs9Fd7FW7"
   },
   "outputs": [],
   "execution_count": null
  },
  {
   "cell_type": "code",
   "source": [
    "# TODO : Using torchsummary, send an image of the same size as a sample of CIFAR-10\n",
    "summary(model, ...) # ... = input shape as a tuple (C,H,W)\n"
   ],
   "metadata": {
    "id": "x29gjtvd94Jr"
   },
   "outputs": [],
   "execution_count": null
  },
  {
   "cell_type": "markdown",
   "source": [
    "* **What is the output size of the model ?**\n",
    "* **What will be the issue of using this model as is to perform classification on the CIFAR-10 Dataset ?**\n"
   ],
   "metadata": {
    "id": "vIpoh9qP-Nll"
   }
  },
  {
   "cell_type": "code",
   "source": [
    "# TODO : According to your answer to the previous questions, perform the changes.\n",
    "# You can access each layers using model.name_of_layer"
   ],
   "metadata": {
    "id": "3XBym9hsB2Z1"
   },
   "outputs": [],
   "execution_count": null
  },
  {
   "cell_type": "markdown",
   "source": [
    "### ii - DataModule"
   ],
   "metadata": {
    "id": "LcainrOT51rP"
   }
  },
  {
   "cell_type": "code",
   "source": [
    "# TODO : EDA \n",
    "\n",
    "# TODO : Create your DataModule"
   ],
   "metadata": {
    "id": "x3WlWJvy51rP"
   },
   "outputs": [],
   "execution_count": null
  },
  {
   "cell_type": "markdown",
   "source": [
    "### iii - Module\n",
    "\n"
   ],
   "metadata": {
    "id": "3aUiAPtd51rP"
   }
  },
  {
   "cell_type": "code",
   "source": [
    "# TODO : Create your Module\n",
    "\n",
    "# Careful : How should your learning rate be ?"
   ],
   "metadata": {
    "id": "W0zUy7CJ51rP"
   },
   "outputs": [],
   "execution_count": null
  },
  {
   "cell_type": "markdown",
   "source": [
    "### iv - Train"
   ],
   "metadata": {
    "id": "RwPYkPT551rQ"
   }
  },
  {
   "cell_type": "code",
   "source": [
    "# TODO : Train"
   ],
   "metadata": {
    "id": "2GdvMUH-51rQ"
   },
   "outputs": [],
   "execution_count": null
  },
  {
   "cell_type": "markdown",
   "source": [
    "### v - Test"
   ],
   "metadata": {
    "id": "hEJLdQuZ51rQ"
   }
  },
  {
   "cell_type": "code",
   "source": [
    "# TODO : Test"
   ],
   "metadata": {
    "id": "DvxjzGdV51rQ"
   },
   "outputs": [],
   "execution_count": null
  },
  {
   "cell_type": "markdown",
   "source": [
    "\n",
    "* **What is your final accuracy ?**\n",
    "* **Is Fine Tuning a model better than creating your own model ?**"
   ],
   "metadata": {
    "id": "USu9oo2wCV2j"
   }
  }
 ]
}
